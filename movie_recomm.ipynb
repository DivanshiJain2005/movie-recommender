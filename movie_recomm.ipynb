{
  "cells": [
    {
      "cell_type": "code",
      "execution_count": 1,
      "metadata": {
        "id": "uQvVXmVaaTfq"
      },
      "outputs": [],
      "source": [
        "import numpy as np\n",
        "import pandas as pd"
      ]
    },
    {
      "cell_type": "code",
      "execution_count": 2,
      "metadata": {
        "colab": {
          "base_uri": "https://localhost:8080/"
        },
        "id": "qufe94FdadYg",
        "outputId": "be9dca43-5539-4b12-ed5c-62f5d54a5a9f"
      },
      "outputs": [
        {
          "name": "stdout",
          "output_type": "stream",
          "text": [
            "Dataset URL: https://www.kaggle.com/datasets/tmdb/tmdb-movie-metadata\n",
            "License(s): other\n",
            "Downloading tmdb-movie-metadata.zip to /content\n",
            " 56% 5.00M/8.89M [00:00<00:00, 33.0MB/s]\n",
            "100% 8.89M/8.89M [00:00<00:00, 49.2MB/s]\n"
          ]
        }
      ],
      "source": [
        "!kaggle datasets download -d tmdb/tmdb-movie-metadata"
      ]
    },
    {
      "cell_type": "code",
      "execution_count": 3,
      "metadata": {
        "colab": {
          "base_uri": "https://localhost:8080/"
        },
        "id": "s_oT7ZxRagRo",
        "outputId": "47f0220a-b960-429e-9663-d4af30dbf41e"
      },
      "outputs": [
        {
          "name": "stdout",
          "output_type": "stream",
          "text": [
            "Archive:  tmdb-movie-metadata.zip\n",
            "  inflating: tmdb_5000_credits.csv   \n",
            "  inflating: tmdb_5000_movies.csv    \n"
          ]
        }
      ],
      "source": [
        "!unzip tmdb-movie-metadata.zip"
      ]
    },
    {
      "cell_type": "code",
      "execution_count": 4,
      "metadata": {
        "id": "x7ctlnPMalCH"
      },
      "outputs": [],
      "source": [
        "movies = pd.read_csv('data/tmdb_5000_movies.csv')\n",
        "credits = pd.read_csv('data/tmdb_5000_credits.csv')"
      ]
    },
    {
      "cell_type": "code",
      "execution_count": 6,
      "metadata": {
        "colab": {
          "base_uri": "https://localhost:8080/",
          "height": 323
        },
        "id": "u0ZckAUcaxcf",
        "outputId": "b5f06a8d-ab81-421f-ac81-413c53b32960"
      },
      "outputs": [
        {
          "data": {
            "text/html": [
              "<div>\n",
              "<style scoped>\n",
              "    .dataframe tbody tr th:only-of-type {\n",
              "        vertical-align: middle;\n",
              "    }\n",
              "\n",
              "    .dataframe tbody tr th {\n",
              "        vertical-align: top;\n",
              "    }\n",
              "\n",
              "    .dataframe thead th {\n",
              "        text-align: right;\n",
              "    }\n",
              "</style>\n",
              "<table border=\"1\" class=\"dataframe\">\n",
              "  <thead>\n",
              "    <tr style=\"text-align: right;\">\n",
              "      <th></th>\n",
              "      <th>budget</th>\n",
              "      <th>genres</th>\n",
              "      <th>homepage</th>\n",
              "      <th>id</th>\n",
              "      <th>keywords</th>\n",
              "      <th>original_language</th>\n",
              "      <th>original_title</th>\n",
              "      <th>overview</th>\n",
              "      <th>popularity</th>\n",
              "      <th>production_companies</th>\n",
              "      <th>production_countries</th>\n",
              "      <th>release_date</th>\n",
              "      <th>revenue</th>\n",
              "      <th>runtime</th>\n",
              "      <th>spoken_languages</th>\n",
              "      <th>status</th>\n",
              "      <th>tagline</th>\n",
              "      <th>title</th>\n",
              "      <th>vote_average</th>\n",
              "      <th>vote_count</th>\n",
              "    </tr>\n",
              "  </thead>\n",
              "  <tbody>\n",
              "    <tr>\n",
              "      <th>0</th>\n",
              "      <td>237000000</td>\n",
              "      <td>[{\"id\": 28, \"name\": \"Action\"}, {\"id\": 12, \"nam...</td>\n",
              "      <td>http://www.avatarmovie.com/</td>\n",
              "      <td>19995</td>\n",
              "      <td>[{\"id\": 1463, \"name\": \"culture clash\"}, {\"id\":...</td>\n",
              "      <td>en</td>\n",
              "      <td>Avatar</td>\n",
              "      <td>In the 22nd century, a paraplegic Marine is di...</td>\n",
              "      <td>150.437577</td>\n",
              "      <td>[{\"name\": \"Ingenious Film Partners\", \"id\": 289...</td>\n",
              "      <td>[{\"iso_3166_1\": \"US\", \"name\": \"United States o...</td>\n",
              "      <td>2009-12-10</td>\n",
              "      <td>2787965087</td>\n",
              "      <td>162.0</td>\n",
              "      <td>[{\"iso_639_1\": \"en\", \"name\": \"English\"}, {\"iso...</td>\n",
              "      <td>Released</td>\n",
              "      <td>Enter the World of Pandora.</td>\n",
              "      <td>Avatar</td>\n",
              "      <td>7.2</td>\n",
              "      <td>11800</td>\n",
              "    </tr>\n",
              "    <tr>\n",
              "      <th>1</th>\n",
              "      <td>300000000</td>\n",
              "      <td>[{\"id\": 12, \"name\": \"Adventure\"}, {\"id\": 14, \"...</td>\n",
              "      <td>http://disney.go.com/disneypictures/pirates/</td>\n",
              "      <td>285</td>\n",
              "      <td>[{\"id\": 270, \"name\": \"ocean\"}, {\"id\": 726, \"na...</td>\n",
              "      <td>en</td>\n",
              "      <td>Pirates of the Caribbean: At World's End</td>\n",
              "      <td>Captain Barbossa, long believed to be dead, ha...</td>\n",
              "      <td>139.082615</td>\n",
              "      <td>[{\"name\": \"Walt Disney Pictures\", \"id\": 2}, {\"...</td>\n",
              "      <td>[{\"iso_3166_1\": \"US\", \"name\": \"United States o...</td>\n",
              "      <td>2007-05-19</td>\n",
              "      <td>961000000</td>\n",
              "      <td>169.0</td>\n",
              "      <td>[{\"iso_639_1\": \"en\", \"name\": \"English\"}]</td>\n",
              "      <td>Released</td>\n",
              "      <td>At the end of the world, the adventure begins.</td>\n",
              "      <td>Pirates of the Caribbean: At World's End</td>\n",
              "      <td>6.9</td>\n",
              "      <td>4500</td>\n",
              "    </tr>\n",
              "  </tbody>\n",
              "</table>\n",
              "</div>"
            ],
            "text/plain": [
              "      budget                                             genres  \\\n",
              "0  237000000  [{\"id\": 28, \"name\": \"Action\"}, {\"id\": 12, \"nam...   \n",
              "1  300000000  [{\"id\": 12, \"name\": \"Adventure\"}, {\"id\": 14, \"...   \n",
              "\n",
              "                                       homepage     id  \\\n",
              "0                   http://www.avatarmovie.com/  19995   \n",
              "1  http://disney.go.com/disneypictures/pirates/    285   \n",
              "\n",
              "                                            keywords original_language  \\\n",
              "0  [{\"id\": 1463, \"name\": \"culture clash\"}, {\"id\":...                en   \n",
              "1  [{\"id\": 270, \"name\": \"ocean\"}, {\"id\": 726, \"na...                en   \n",
              "\n",
              "                             original_title  \\\n",
              "0                                    Avatar   \n",
              "1  Pirates of the Caribbean: At World's End   \n",
              "\n",
              "                                            overview  popularity  \\\n",
              "0  In the 22nd century, a paraplegic Marine is di...  150.437577   \n",
              "1  Captain Barbossa, long believed to be dead, ha...  139.082615   \n",
              "\n",
              "                                production_companies  \\\n",
              "0  [{\"name\": \"Ingenious Film Partners\", \"id\": 289...   \n",
              "1  [{\"name\": \"Walt Disney Pictures\", \"id\": 2}, {\"...   \n",
              "\n",
              "                                production_countries release_date     revenue  \\\n",
              "0  [{\"iso_3166_1\": \"US\", \"name\": \"United States o...   2009-12-10  2787965087   \n",
              "1  [{\"iso_3166_1\": \"US\", \"name\": \"United States o...   2007-05-19   961000000   \n",
              "\n",
              "   runtime                                   spoken_languages    status  \\\n",
              "0    162.0  [{\"iso_639_1\": \"en\", \"name\": \"English\"}, {\"iso...  Released   \n",
              "1    169.0           [{\"iso_639_1\": \"en\", \"name\": \"English\"}]  Released   \n",
              "\n",
              "                                          tagline  \\\n",
              "0                     Enter the World of Pandora.   \n",
              "1  At the end of the world, the adventure begins.   \n",
              "\n",
              "                                      title  vote_average  vote_count  \n",
              "0                                    Avatar           7.2       11800  \n",
              "1  Pirates of the Caribbean: At World's End           6.9        4500  "
            ]
          },
          "execution_count": 6,
          "metadata": {},
          "output_type": "execute_result"
        }
      ],
      "source": [
        "movies.head(2)"
      ]
    },
    {
      "cell_type": "code",
      "execution_count": 7,
      "metadata": {
        "colab": {
          "base_uri": "https://localhost:8080/"
        },
        "id": "AYGfkY3Xa6dL",
        "outputId": "bc8836e6-b8ab-4885-e325-9ca3035221e4"
      },
      "outputs": [
        {
          "data": {
            "text/plain": [
              "(4803, 20)"
            ]
          },
          "execution_count": 7,
          "metadata": {},
          "output_type": "execute_result"
        }
      ],
      "source": [
        "movies.shape"
      ]
    },
    {
      "cell_type": "code",
      "execution_count": 8,
      "metadata": {
        "colab": {
          "base_uri": "https://localhost:8080/",
          "height": 112
        },
        "id": "5AukKHa9bADL",
        "outputId": "65c8a59a-ba6b-415d-b59e-a5738f3e78cb"
      },
      "outputs": [
        {
          "data": {
            "text/html": [
              "<div>\n",
              "<style scoped>\n",
              "    .dataframe tbody tr th:only-of-type {\n",
              "        vertical-align: middle;\n",
              "    }\n",
              "\n",
              "    .dataframe tbody tr th {\n",
              "        vertical-align: top;\n",
              "    }\n",
              "\n",
              "    .dataframe thead th {\n",
              "        text-align: right;\n",
              "    }\n",
              "</style>\n",
              "<table border=\"1\" class=\"dataframe\">\n",
              "  <thead>\n",
              "    <tr style=\"text-align: right;\">\n",
              "      <th></th>\n",
              "      <th>movie_id</th>\n",
              "      <th>title</th>\n",
              "      <th>cast</th>\n",
              "      <th>crew</th>\n",
              "    </tr>\n",
              "  </thead>\n",
              "  <tbody>\n",
              "    <tr>\n",
              "      <th>0</th>\n",
              "      <td>19995</td>\n",
              "      <td>Avatar</td>\n",
              "      <td>[{\"cast_id\": 242, \"character\": \"Jake Sully\", \"...</td>\n",
              "      <td>[{\"credit_id\": \"52fe48009251416c750aca23\", \"de...</td>\n",
              "    </tr>\n",
              "    <tr>\n",
              "      <th>1</th>\n",
              "      <td>285</td>\n",
              "      <td>Pirates of the Caribbean: At World's End</td>\n",
              "      <td>[{\"cast_id\": 4, \"character\": \"Captain Jack Spa...</td>\n",
              "      <td>[{\"credit_id\": \"52fe4232c3a36847f800b579\", \"de...</td>\n",
              "    </tr>\n",
              "  </tbody>\n",
              "</table>\n",
              "</div>"
            ],
            "text/plain": [
              "   movie_id                                     title  \\\n",
              "0     19995                                    Avatar   \n",
              "1       285  Pirates of the Caribbean: At World's End   \n",
              "\n",
              "                                                cast  \\\n",
              "0  [{\"cast_id\": 242, \"character\": \"Jake Sully\", \"...   \n",
              "1  [{\"cast_id\": 4, \"character\": \"Captain Jack Spa...   \n",
              "\n",
              "                                                crew  \n",
              "0  [{\"credit_id\": \"52fe48009251416c750aca23\", \"de...  \n",
              "1  [{\"credit_id\": \"52fe4232c3a36847f800b579\", \"de...  "
            ]
          },
          "execution_count": 8,
          "metadata": {},
          "output_type": "execute_result"
        }
      ],
      "source": [
        "credits.head(2)"
      ]
    },
    {
      "cell_type": "code",
      "execution_count": 9,
      "metadata": {
        "id": "DjVZwLTIbE8J"
      },
      "outputs": [],
      "source": [
        "movies = movies.merge(credits, on='title')"
      ]
    },
    {
      "cell_type": "code",
      "execution_count": 10,
      "metadata": {
        "id": "57PXTnFRbPGr"
      },
      "outputs": [],
      "source": [
        "movies = movies[['movie_id','title','overview','genres','keywords','cast','crew']]"
      ]
    },
    {
      "cell_type": "code",
      "execution_count": 11,
      "metadata": {
        "colab": {
          "base_uri": "https://localhost:8080/",
          "height": 379
        },
        "id": "MmFrzT_LbTyM",
        "outputId": "1456a90d-bde5-4360-ce9b-78560964ce5e"
      },
      "outputs": [
        {
          "data": {
            "text/html": [
              "<div>\n",
              "<style scoped>\n",
              "    .dataframe tbody tr th:only-of-type {\n",
              "        vertical-align: middle;\n",
              "    }\n",
              "\n",
              "    .dataframe tbody tr th {\n",
              "        vertical-align: top;\n",
              "    }\n",
              "\n",
              "    .dataframe thead th {\n",
              "        text-align: right;\n",
              "    }\n",
              "</style>\n",
              "<table border=\"1\" class=\"dataframe\">\n",
              "  <thead>\n",
              "    <tr style=\"text-align: right;\">\n",
              "      <th></th>\n",
              "      <th>movie_id</th>\n",
              "      <th>title</th>\n",
              "      <th>overview</th>\n",
              "      <th>genres</th>\n",
              "      <th>keywords</th>\n",
              "      <th>cast</th>\n",
              "      <th>crew</th>\n",
              "    </tr>\n",
              "  </thead>\n",
              "  <tbody>\n",
              "    <tr>\n",
              "      <th>0</th>\n",
              "      <td>19995</td>\n",
              "      <td>Avatar</td>\n",
              "      <td>In the 22nd century, a paraplegic Marine is di...</td>\n",
              "      <td>[{\"id\": 28, \"name\": \"Action\"}, {\"id\": 12, \"nam...</td>\n",
              "      <td>[{\"id\": 1463, \"name\": \"culture clash\"}, {\"id\":...</td>\n",
              "      <td>[{\"cast_id\": 242, \"character\": \"Jake Sully\", \"...</td>\n",
              "      <td>[{\"credit_id\": \"52fe48009251416c750aca23\", \"de...</td>\n",
              "    </tr>\n",
              "    <tr>\n",
              "      <th>1</th>\n",
              "      <td>285</td>\n",
              "      <td>Pirates of the Caribbean: At World's End</td>\n",
              "      <td>Captain Barbossa, long believed to be dead, ha...</td>\n",
              "      <td>[{\"id\": 12, \"name\": \"Adventure\"}, {\"id\": 14, \"...</td>\n",
              "      <td>[{\"id\": 270, \"name\": \"ocean\"}, {\"id\": 726, \"na...</td>\n",
              "      <td>[{\"cast_id\": 4, \"character\": \"Captain Jack Spa...</td>\n",
              "      <td>[{\"credit_id\": \"52fe4232c3a36847f800b579\", \"de...</td>\n",
              "    </tr>\n",
              "    <tr>\n",
              "      <th>2</th>\n",
              "      <td>206647</td>\n",
              "      <td>Spectre</td>\n",
              "      <td>A cryptic message from Bond’s past sends him o...</td>\n",
              "      <td>[{\"id\": 28, \"name\": \"Action\"}, {\"id\": 12, \"nam...</td>\n",
              "      <td>[{\"id\": 470, \"name\": \"spy\"}, {\"id\": 818, \"name...</td>\n",
              "      <td>[{\"cast_id\": 1, \"character\": \"James Bond\", \"cr...</td>\n",
              "      <td>[{\"credit_id\": \"54805967c3a36829b5002c41\", \"de...</td>\n",
              "    </tr>\n",
              "    <tr>\n",
              "      <th>3</th>\n",
              "      <td>49026</td>\n",
              "      <td>The Dark Knight Rises</td>\n",
              "      <td>Following the death of District Attorney Harve...</td>\n",
              "      <td>[{\"id\": 28, \"name\": \"Action\"}, {\"id\": 80, \"nam...</td>\n",
              "      <td>[{\"id\": 849, \"name\": \"dc comics\"}, {\"id\": 853,...</td>\n",
              "      <td>[{\"cast_id\": 2, \"character\": \"Bruce Wayne / Ba...</td>\n",
              "      <td>[{\"credit_id\": \"52fe4781c3a36847f81398c3\", \"de...</td>\n",
              "    </tr>\n",
              "    <tr>\n",
              "      <th>4</th>\n",
              "      <td>49529</td>\n",
              "      <td>John Carter</td>\n",
              "      <td>John Carter is a war-weary, former military ca...</td>\n",
              "      <td>[{\"id\": 28, \"name\": \"Action\"}, {\"id\": 12, \"nam...</td>\n",
              "      <td>[{\"id\": 818, \"name\": \"based on novel\"}, {\"id\":...</td>\n",
              "      <td>[{\"cast_id\": 5, \"character\": \"John Carter\", \"c...</td>\n",
              "      <td>[{\"credit_id\": \"52fe479ac3a36847f813eaa3\", \"de...</td>\n",
              "    </tr>\n",
              "  </tbody>\n",
              "</table>\n",
              "</div>"
            ],
            "text/plain": [
              "   movie_id                                     title  \\\n",
              "0     19995                                    Avatar   \n",
              "1       285  Pirates of the Caribbean: At World's End   \n",
              "2    206647                                   Spectre   \n",
              "3     49026                     The Dark Knight Rises   \n",
              "4     49529                               John Carter   \n",
              "\n",
              "                                            overview  \\\n",
              "0  In the 22nd century, a paraplegic Marine is di...   \n",
              "1  Captain Barbossa, long believed to be dead, ha...   \n",
              "2  A cryptic message from Bond’s past sends him o...   \n",
              "3  Following the death of District Attorney Harve...   \n",
              "4  John Carter is a war-weary, former military ca...   \n",
              "\n",
              "                                              genres  \\\n",
              "0  [{\"id\": 28, \"name\": \"Action\"}, {\"id\": 12, \"nam...   \n",
              "1  [{\"id\": 12, \"name\": \"Adventure\"}, {\"id\": 14, \"...   \n",
              "2  [{\"id\": 28, \"name\": \"Action\"}, {\"id\": 12, \"nam...   \n",
              "3  [{\"id\": 28, \"name\": \"Action\"}, {\"id\": 80, \"nam...   \n",
              "4  [{\"id\": 28, \"name\": \"Action\"}, {\"id\": 12, \"nam...   \n",
              "\n",
              "                                            keywords  \\\n",
              "0  [{\"id\": 1463, \"name\": \"culture clash\"}, {\"id\":...   \n",
              "1  [{\"id\": 270, \"name\": \"ocean\"}, {\"id\": 726, \"na...   \n",
              "2  [{\"id\": 470, \"name\": \"spy\"}, {\"id\": 818, \"name...   \n",
              "3  [{\"id\": 849, \"name\": \"dc comics\"}, {\"id\": 853,...   \n",
              "4  [{\"id\": 818, \"name\": \"based on novel\"}, {\"id\":...   \n",
              "\n",
              "                                                cast  \\\n",
              "0  [{\"cast_id\": 242, \"character\": \"Jake Sully\", \"...   \n",
              "1  [{\"cast_id\": 4, \"character\": \"Captain Jack Spa...   \n",
              "2  [{\"cast_id\": 1, \"character\": \"James Bond\", \"cr...   \n",
              "3  [{\"cast_id\": 2, \"character\": \"Bruce Wayne / Ba...   \n",
              "4  [{\"cast_id\": 5, \"character\": \"John Carter\", \"c...   \n",
              "\n",
              "                                                crew  \n",
              "0  [{\"credit_id\": \"52fe48009251416c750aca23\", \"de...  \n",
              "1  [{\"credit_id\": \"52fe4232c3a36847f800b579\", \"de...  \n",
              "2  [{\"credit_id\": \"54805967c3a36829b5002c41\", \"de...  \n",
              "3  [{\"credit_id\": \"52fe4781c3a36847f81398c3\", \"de...  \n",
              "4  [{\"credit_id\": \"52fe479ac3a36847f813eaa3\", \"de...  "
            ]
          },
          "execution_count": 11,
          "metadata": {},
          "output_type": "execute_result"
        }
      ],
      "source": [
        "movies.head()"
      ]
    },
    {
      "cell_type": "code",
      "execution_count": 12,
      "metadata": {
        "id": "6w3CAQOjbXNl"
      },
      "outputs": [],
      "source": [
        "import ast"
      ]
    },
    {
      "cell_type": "code",
      "execution_count": 13,
      "metadata": {
        "id": "a0R6sourbcJz"
      },
      "outputs": [],
      "source": [
        "def convert(text):\n",
        "  if isinstance(text, str):  # Check if text is a string\n",
        "    list = []\n",
        "    for i in ast.literal_eval(text):\n",
        "      list.append(i['name'])\n",
        "    return list\n",
        "  else: # If text is already a list, just return it\n",
        "    return text"
      ]
    },
    {
      "cell_type": "code",
      "execution_count": 15,
      "metadata": {
        "id": "7xh8tFPSc6hg"
      },
      "outputs": [],
      "source": [
        "def convert3(text):\n",
        "    L = []\n",
        "    counter = 0\n",
        "    for i in ast.literal_eval(text):\n",
        "        if counter < 3:\n",
        "            L.append(i['name'])\n",
        "        counter+=1\n",
        "    return L"
      ]
    },
    {
      "cell_type": "code",
      "execution_count": 16,
      "metadata": {
        "id": "8KwV2PWFcalI"
      },
      "outputs": [],
      "source": [
        "movies.dropna(inplace=True)"
      ]
    },
    {
      "cell_type": "code",
      "execution_count": 17,
      "metadata": {
        "colab": {
          "base_uri": "https://localhost:8080/",
          "height": 379
        },
        "id": "woj0M-Iecgkx",
        "outputId": "f810bfe2-bba4-4a44-8c71-6b33fece5134"
      },
      "outputs": [
        {
          "data": {
            "text/html": [
              "<div>\n",
              "<style scoped>\n",
              "    .dataframe tbody tr th:only-of-type {\n",
              "        vertical-align: middle;\n",
              "    }\n",
              "\n",
              "    .dataframe tbody tr th {\n",
              "        vertical-align: top;\n",
              "    }\n",
              "\n",
              "    .dataframe thead th {\n",
              "        text-align: right;\n",
              "    }\n",
              "</style>\n",
              "<table border=\"1\" class=\"dataframe\">\n",
              "  <thead>\n",
              "    <tr style=\"text-align: right;\">\n",
              "      <th></th>\n",
              "      <th>movie_id</th>\n",
              "      <th>title</th>\n",
              "      <th>overview</th>\n",
              "      <th>genres</th>\n",
              "      <th>keywords</th>\n",
              "      <th>cast</th>\n",
              "      <th>crew</th>\n",
              "    </tr>\n",
              "  </thead>\n",
              "  <tbody>\n",
              "    <tr>\n",
              "      <th>0</th>\n",
              "      <td>19995</td>\n",
              "      <td>Avatar</td>\n",
              "      <td>In the 22nd century, a paraplegic Marine is di...</td>\n",
              "      <td>[Action, Adventure, Fantasy, Science Fiction]</td>\n",
              "      <td>[{\"id\": 1463, \"name\": \"culture clash\"}, {\"id\":...</td>\n",
              "      <td>[{\"cast_id\": 242, \"character\": \"Jake Sully\", \"...</td>\n",
              "      <td>[{\"credit_id\": \"52fe48009251416c750aca23\", \"de...</td>\n",
              "    </tr>\n",
              "    <tr>\n",
              "      <th>1</th>\n",
              "      <td>285</td>\n",
              "      <td>Pirates of the Caribbean: At World's End</td>\n",
              "      <td>Captain Barbossa, long believed to be dead, ha...</td>\n",
              "      <td>[Adventure, Fantasy, Action]</td>\n",
              "      <td>[{\"id\": 270, \"name\": \"ocean\"}, {\"id\": 726, \"na...</td>\n",
              "      <td>[{\"cast_id\": 4, \"character\": \"Captain Jack Spa...</td>\n",
              "      <td>[{\"credit_id\": \"52fe4232c3a36847f800b579\", \"de...</td>\n",
              "    </tr>\n",
              "    <tr>\n",
              "      <th>2</th>\n",
              "      <td>206647</td>\n",
              "      <td>Spectre</td>\n",
              "      <td>A cryptic message from Bond’s past sends him o...</td>\n",
              "      <td>[Action, Adventure, Crime]</td>\n",
              "      <td>[{\"id\": 470, \"name\": \"spy\"}, {\"id\": 818, \"name...</td>\n",
              "      <td>[{\"cast_id\": 1, \"character\": \"James Bond\", \"cr...</td>\n",
              "      <td>[{\"credit_id\": \"54805967c3a36829b5002c41\", \"de...</td>\n",
              "    </tr>\n",
              "    <tr>\n",
              "      <th>3</th>\n",
              "      <td>49026</td>\n",
              "      <td>The Dark Knight Rises</td>\n",
              "      <td>Following the death of District Attorney Harve...</td>\n",
              "      <td>[Action, Crime, Drama, Thriller]</td>\n",
              "      <td>[{\"id\": 849, \"name\": \"dc comics\"}, {\"id\": 853,...</td>\n",
              "      <td>[{\"cast_id\": 2, \"character\": \"Bruce Wayne / Ba...</td>\n",
              "      <td>[{\"credit_id\": \"52fe4781c3a36847f81398c3\", \"de...</td>\n",
              "    </tr>\n",
              "    <tr>\n",
              "      <th>4</th>\n",
              "      <td>49529</td>\n",
              "      <td>John Carter</td>\n",
              "      <td>John Carter is a war-weary, former military ca...</td>\n",
              "      <td>[Action, Adventure, Science Fiction]</td>\n",
              "      <td>[{\"id\": 818, \"name\": \"based on novel\"}, {\"id\":...</td>\n",
              "      <td>[{\"cast_id\": 5, \"character\": \"John Carter\", \"c...</td>\n",
              "      <td>[{\"credit_id\": \"52fe479ac3a36847f813eaa3\", \"de...</td>\n",
              "    </tr>\n",
              "  </tbody>\n",
              "</table>\n",
              "</div>"
            ],
            "text/plain": [
              "   movie_id                                     title  \\\n",
              "0     19995                                    Avatar   \n",
              "1       285  Pirates of the Caribbean: At World's End   \n",
              "2    206647                                   Spectre   \n",
              "3     49026                     The Dark Knight Rises   \n",
              "4     49529                               John Carter   \n",
              "\n",
              "                                            overview  \\\n",
              "0  In the 22nd century, a paraplegic Marine is di...   \n",
              "1  Captain Barbossa, long believed to be dead, ha...   \n",
              "2  A cryptic message from Bond’s past sends him o...   \n",
              "3  Following the death of District Attorney Harve...   \n",
              "4  John Carter is a war-weary, former military ca...   \n",
              "\n",
              "                                          genres  \\\n",
              "0  [Action, Adventure, Fantasy, Science Fiction]   \n",
              "1                   [Adventure, Fantasy, Action]   \n",
              "2                     [Action, Adventure, Crime]   \n",
              "3               [Action, Crime, Drama, Thriller]   \n",
              "4           [Action, Adventure, Science Fiction]   \n",
              "\n",
              "                                            keywords  \\\n",
              "0  [{\"id\": 1463, \"name\": \"culture clash\"}, {\"id\":...   \n",
              "1  [{\"id\": 270, \"name\": \"ocean\"}, {\"id\": 726, \"na...   \n",
              "2  [{\"id\": 470, \"name\": \"spy\"}, {\"id\": 818, \"name...   \n",
              "3  [{\"id\": 849, \"name\": \"dc comics\"}, {\"id\": 853,...   \n",
              "4  [{\"id\": 818, \"name\": \"based on novel\"}, {\"id\":...   \n",
              "\n",
              "                                                cast  \\\n",
              "0  [{\"cast_id\": 242, \"character\": \"Jake Sully\", \"...   \n",
              "1  [{\"cast_id\": 4, \"character\": \"Captain Jack Spa...   \n",
              "2  [{\"cast_id\": 1, \"character\": \"James Bond\", \"cr...   \n",
              "3  [{\"cast_id\": 2, \"character\": \"Bruce Wayne / Ba...   \n",
              "4  [{\"cast_id\": 5, \"character\": \"John Carter\", \"c...   \n",
              "\n",
              "                                                crew  \n",
              "0  [{\"credit_id\": \"52fe48009251416c750aca23\", \"de...  \n",
              "1  [{\"credit_id\": \"52fe4232c3a36847f800b579\", \"de...  \n",
              "2  [{\"credit_id\": \"54805967c3a36829b5002c41\", \"de...  \n",
              "3  [{\"credit_id\": \"52fe4781c3a36847f81398c3\", \"de...  \n",
              "4  [{\"credit_id\": \"52fe479ac3a36847f813eaa3\", \"de...  "
            ]
          },
          "execution_count": 17,
          "metadata": {},
          "output_type": "execute_result"
        }
      ],
      "source": [
        "movies['genres'] = movies['genres'].apply(convert)\n",
        "movies.head()"
      ]
    },
    {
      "cell_type": "code",
      "execution_count": 18,
      "metadata": {
        "colab": {
          "base_uri": "https://localhost:8080/",
          "height": 379
        },
        "id": "SfBLyoRKdba6",
        "outputId": "ca5288cb-5d25-42c0-aa56-50b9004f1f89"
      },
      "outputs": [
        {
          "data": {
            "text/html": [
              "<div>\n",
              "<style scoped>\n",
              "    .dataframe tbody tr th:only-of-type {\n",
              "        vertical-align: middle;\n",
              "    }\n",
              "\n",
              "    .dataframe tbody tr th {\n",
              "        vertical-align: top;\n",
              "    }\n",
              "\n",
              "    .dataframe thead th {\n",
              "        text-align: right;\n",
              "    }\n",
              "</style>\n",
              "<table border=\"1\" class=\"dataframe\">\n",
              "  <thead>\n",
              "    <tr style=\"text-align: right;\">\n",
              "      <th></th>\n",
              "      <th>movie_id</th>\n",
              "      <th>title</th>\n",
              "      <th>overview</th>\n",
              "      <th>genres</th>\n",
              "      <th>keywords</th>\n",
              "      <th>cast</th>\n",
              "      <th>crew</th>\n",
              "    </tr>\n",
              "  </thead>\n",
              "  <tbody>\n",
              "    <tr>\n",
              "      <th>0</th>\n",
              "      <td>19995</td>\n",
              "      <td>Avatar</td>\n",
              "      <td>In the 22nd century, a paraplegic Marine is di...</td>\n",
              "      <td>[Action, Adventure, Fantasy, Science Fiction]</td>\n",
              "      <td>[culture clash, future, space war, space colon...</td>\n",
              "      <td>[{\"cast_id\": 242, \"character\": \"Jake Sully\", \"...</td>\n",
              "      <td>[{\"credit_id\": \"52fe48009251416c750aca23\", \"de...</td>\n",
              "    </tr>\n",
              "    <tr>\n",
              "      <th>1</th>\n",
              "      <td>285</td>\n",
              "      <td>Pirates of the Caribbean: At World's End</td>\n",
              "      <td>Captain Barbossa, long believed to be dead, ha...</td>\n",
              "      <td>[Adventure, Fantasy, Action]</td>\n",
              "      <td>[ocean, drug abuse, exotic island, east india ...</td>\n",
              "      <td>[{\"cast_id\": 4, \"character\": \"Captain Jack Spa...</td>\n",
              "      <td>[{\"credit_id\": \"52fe4232c3a36847f800b579\", \"de...</td>\n",
              "    </tr>\n",
              "    <tr>\n",
              "      <th>2</th>\n",
              "      <td>206647</td>\n",
              "      <td>Spectre</td>\n",
              "      <td>A cryptic message from Bond’s past sends him o...</td>\n",
              "      <td>[Action, Adventure, Crime]</td>\n",
              "      <td>[spy, based on novel, secret agent, sequel, mi...</td>\n",
              "      <td>[{\"cast_id\": 1, \"character\": \"James Bond\", \"cr...</td>\n",
              "      <td>[{\"credit_id\": \"54805967c3a36829b5002c41\", \"de...</td>\n",
              "    </tr>\n",
              "    <tr>\n",
              "      <th>3</th>\n",
              "      <td>49026</td>\n",
              "      <td>The Dark Knight Rises</td>\n",
              "      <td>Following the death of District Attorney Harve...</td>\n",
              "      <td>[Action, Crime, Drama, Thriller]</td>\n",
              "      <td>[dc comics, crime fighter, terrorist, secret i...</td>\n",
              "      <td>[{\"cast_id\": 2, \"character\": \"Bruce Wayne / Ba...</td>\n",
              "      <td>[{\"credit_id\": \"52fe4781c3a36847f81398c3\", \"de...</td>\n",
              "    </tr>\n",
              "    <tr>\n",
              "      <th>4</th>\n",
              "      <td>49529</td>\n",
              "      <td>John Carter</td>\n",
              "      <td>John Carter is a war-weary, former military ca...</td>\n",
              "      <td>[Action, Adventure, Science Fiction]</td>\n",
              "      <td>[based on novel, mars, medallion, space travel...</td>\n",
              "      <td>[{\"cast_id\": 5, \"character\": \"John Carter\", \"c...</td>\n",
              "      <td>[{\"credit_id\": \"52fe479ac3a36847f813eaa3\", \"de...</td>\n",
              "    </tr>\n",
              "  </tbody>\n",
              "</table>\n",
              "</div>"
            ],
            "text/plain": [
              "   movie_id                                     title  \\\n",
              "0     19995                                    Avatar   \n",
              "1       285  Pirates of the Caribbean: At World's End   \n",
              "2    206647                                   Spectre   \n",
              "3     49026                     The Dark Knight Rises   \n",
              "4     49529                               John Carter   \n",
              "\n",
              "                                            overview  \\\n",
              "0  In the 22nd century, a paraplegic Marine is di...   \n",
              "1  Captain Barbossa, long believed to be dead, ha...   \n",
              "2  A cryptic message from Bond’s past sends him o...   \n",
              "3  Following the death of District Attorney Harve...   \n",
              "4  John Carter is a war-weary, former military ca...   \n",
              "\n",
              "                                          genres  \\\n",
              "0  [Action, Adventure, Fantasy, Science Fiction]   \n",
              "1                   [Adventure, Fantasy, Action]   \n",
              "2                     [Action, Adventure, Crime]   \n",
              "3               [Action, Crime, Drama, Thriller]   \n",
              "4           [Action, Adventure, Science Fiction]   \n",
              "\n",
              "                                            keywords  \\\n",
              "0  [culture clash, future, space war, space colon...   \n",
              "1  [ocean, drug abuse, exotic island, east india ...   \n",
              "2  [spy, based on novel, secret agent, sequel, mi...   \n",
              "3  [dc comics, crime fighter, terrorist, secret i...   \n",
              "4  [based on novel, mars, medallion, space travel...   \n",
              "\n",
              "                                                cast  \\\n",
              "0  [{\"cast_id\": 242, \"character\": \"Jake Sully\", \"...   \n",
              "1  [{\"cast_id\": 4, \"character\": \"Captain Jack Spa...   \n",
              "2  [{\"cast_id\": 1, \"character\": \"James Bond\", \"cr...   \n",
              "3  [{\"cast_id\": 2, \"character\": \"Bruce Wayne / Ba...   \n",
              "4  [{\"cast_id\": 5, \"character\": \"John Carter\", \"c...   \n",
              "\n",
              "                                                crew  \n",
              "0  [{\"credit_id\": \"52fe48009251416c750aca23\", \"de...  \n",
              "1  [{\"credit_id\": \"52fe4232c3a36847f800b579\", \"de...  \n",
              "2  [{\"credit_id\": \"54805967c3a36829b5002c41\", \"de...  \n",
              "3  [{\"credit_id\": \"52fe4781c3a36847f81398c3\", \"de...  \n",
              "4  [{\"credit_id\": \"52fe479ac3a36847f813eaa3\", \"de...  "
            ]
          },
          "execution_count": 18,
          "metadata": {},
          "output_type": "execute_result"
        }
      ],
      "source": [
        "movies['keywords'] = movies['keywords'].apply(convert)\n",
        "movies.head()"
      ]
    },
    {
      "cell_type": "code",
      "execution_count": 19,
      "metadata": {
        "colab": {
          "base_uri": "https://localhost:8080/",
          "height": 379
        },
        "id": "HS0Qpg88dhrh",
        "outputId": "367bec0b-acf7-4f62-f1be-e45b19d15c46"
      },
      "outputs": [
        {
          "data": {
            "text/html": [
              "<div>\n",
              "<style scoped>\n",
              "    .dataframe tbody tr th:only-of-type {\n",
              "        vertical-align: middle;\n",
              "    }\n",
              "\n",
              "    .dataframe tbody tr th {\n",
              "        vertical-align: top;\n",
              "    }\n",
              "\n",
              "    .dataframe thead th {\n",
              "        text-align: right;\n",
              "    }\n",
              "</style>\n",
              "<table border=\"1\" class=\"dataframe\">\n",
              "  <thead>\n",
              "    <tr style=\"text-align: right;\">\n",
              "      <th></th>\n",
              "      <th>movie_id</th>\n",
              "      <th>title</th>\n",
              "      <th>overview</th>\n",
              "      <th>genres</th>\n",
              "      <th>keywords</th>\n",
              "      <th>cast</th>\n",
              "      <th>crew</th>\n",
              "    </tr>\n",
              "  </thead>\n",
              "  <tbody>\n",
              "    <tr>\n",
              "      <th>0</th>\n",
              "      <td>19995</td>\n",
              "      <td>Avatar</td>\n",
              "      <td>In the 22nd century, a paraplegic Marine is di...</td>\n",
              "      <td>[Action, Adventure, Fantasy, Science Fiction]</td>\n",
              "      <td>[culture clash, future, space war, space colon...</td>\n",
              "      <td>[Sam Worthington, Zoe Saldana, Sigourney Weave...</td>\n",
              "      <td>[{\"credit_id\": \"52fe48009251416c750aca23\", \"de...</td>\n",
              "    </tr>\n",
              "    <tr>\n",
              "      <th>1</th>\n",
              "      <td>285</td>\n",
              "      <td>Pirates of the Caribbean: At World's End</td>\n",
              "      <td>Captain Barbossa, long believed to be dead, ha...</td>\n",
              "      <td>[Adventure, Fantasy, Action]</td>\n",
              "      <td>[ocean, drug abuse, exotic island, east india ...</td>\n",
              "      <td>[Johnny Depp, Orlando Bloom, Keira Knightley, ...</td>\n",
              "      <td>[{\"credit_id\": \"52fe4232c3a36847f800b579\", \"de...</td>\n",
              "    </tr>\n",
              "    <tr>\n",
              "      <th>2</th>\n",
              "      <td>206647</td>\n",
              "      <td>Spectre</td>\n",
              "      <td>A cryptic message from Bond’s past sends him o...</td>\n",
              "      <td>[Action, Adventure, Crime]</td>\n",
              "      <td>[spy, based on novel, secret agent, sequel, mi...</td>\n",
              "      <td>[Daniel Craig, Christoph Waltz, Léa Seydoux, R...</td>\n",
              "      <td>[{\"credit_id\": \"54805967c3a36829b5002c41\", \"de...</td>\n",
              "    </tr>\n",
              "    <tr>\n",
              "      <th>3</th>\n",
              "      <td>49026</td>\n",
              "      <td>The Dark Knight Rises</td>\n",
              "      <td>Following the death of District Attorney Harve...</td>\n",
              "      <td>[Action, Crime, Drama, Thriller]</td>\n",
              "      <td>[dc comics, crime fighter, terrorist, secret i...</td>\n",
              "      <td>[Christian Bale, Michael Caine, Gary Oldman, A...</td>\n",
              "      <td>[{\"credit_id\": \"52fe4781c3a36847f81398c3\", \"de...</td>\n",
              "    </tr>\n",
              "    <tr>\n",
              "      <th>4</th>\n",
              "      <td>49529</td>\n",
              "      <td>John Carter</td>\n",
              "      <td>John Carter is a war-weary, former military ca...</td>\n",
              "      <td>[Action, Adventure, Science Fiction]</td>\n",
              "      <td>[based on novel, mars, medallion, space travel...</td>\n",
              "      <td>[Taylor Kitsch, Lynn Collins, Samantha Morton,...</td>\n",
              "      <td>[{\"credit_id\": \"52fe479ac3a36847f813eaa3\", \"de...</td>\n",
              "    </tr>\n",
              "  </tbody>\n",
              "</table>\n",
              "</div>"
            ],
            "text/plain": [
              "   movie_id                                     title  \\\n",
              "0     19995                                    Avatar   \n",
              "1       285  Pirates of the Caribbean: At World's End   \n",
              "2    206647                                   Spectre   \n",
              "3     49026                     The Dark Knight Rises   \n",
              "4     49529                               John Carter   \n",
              "\n",
              "                                            overview  \\\n",
              "0  In the 22nd century, a paraplegic Marine is di...   \n",
              "1  Captain Barbossa, long believed to be dead, ha...   \n",
              "2  A cryptic message from Bond’s past sends him o...   \n",
              "3  Following the death of District Attorney Harve...   \n",
              "4  John Carter is a war-weary, former military ca...   \n",
              "\n",
              "                                          genres  \\\n",
              "0  [Action, Adventure, Fantasy, Science Fiction]   \n",
              "1                   [Adventure, Fantasy, Action]   \n",
              "2                     [Action, Adventure, Crime]   \n",
              "3               [Action, Crime, Drama, Thriller]   \n",
              "4           [Action, Adventure, Science Fiction]   \n",
              "\n",
              "                                            keywords  \\\n",
              "0  [culture clash, future, space war, space colon...   \n",
              "1  [ocean, drug abuse, exotic island, east india ...   \n",
              "2  [spy, based on novel, secret agent, sequel, mi...   \n",
              "3  [dc comics, crime fighter, terrorist, secret i...   \n",
              "4  [based on novel, mars, medallion, space travel...   \n",
              "\n",
              "                                                cast  \\\n",
              "0  [Sam Worthington, Zoe Saldana, Sigourney Weave...   \n",
              "1  [Johnny Depp, Orlando Bloom, Keira Knightley, ...   \n",
              "2  [Daniel Craig, Christoph Waltz, Léa Seydoux, R...   \n",
              "3  [Christian Bale, Michael Caine, Gary Oldman, A...   \n",
              "4  [Taylor Kitsch, Lynn Collins, Samantha Morton,...   \n",
              "\n",
              "                                                crew  \n",
              "0  [{\"credit_id\": \"52fe48009251416c750aca23\", \"de...  \n",
              "1  [{\"credit_id\": \"52fe4232c3a36847f800b579\", \"de...  \n",
              "2  [{\"credit_id\": \"54805967c3a36829b5002c41\", \"de...  \n",
              "3  [{\"credit_id\": \"52fe4781c3a36847f81398c3\", \"de...  \n",
              "4  [{\"credit_id\": \"52fe479ac3a36847f813eaa3\", \"de...  "
            ]
          },
          "execution_count": 19,
          "metadata": {},
          "output_type": "execute_result"
        }
      ],
      "source": [
        "movies['cast'] = movies['cast'].apply(convert)\n",
        "movies.head()"
      ]
    },
    {
      "cell_type": "code",
      "execution_count": 20,
      "metadata": {
        "id": "1gUlUOh1doeD"
      },
      "outputs": [],
      "source": [
        "movies['cast'] = movies['cast'].apply(lambda x:x[0:3])"
      ]
    },
    {
      "cell_type": "code",
      "execution_count": 21,
      "metadata": {
        "id": "5bY8yfjudrAQ"
      },
      "outputs": [],
      "source": [
        "def fetch_director(text):\n",
        "    lst = []\n",
        "    for i in ast.literal_eval(text):\n",
        "        if i['job'] == 'Director':\n",
        "            lst.append(i['name'])\n",
        "    return lst"
      ]
    },
    {
      "cell_type": "code",
      "execution_count": 22,
      "metadata": {
        "id": "a4lHhM-Adz57"
      },
      "outputs": [],
      "source": [
        "movies['crew'] = movies['crew'].apply(fetch_director)"
      ]
    },
    {
      "cell_type": "code",
      "execution_count": 23,
      "metadata": {
        "colab": {
          "base_uri": "https://localhost:8080/",
          "height": 293
        },
        "id": "4UZtA6qMd3Bg",
        "outputId": "d1fdf62d-0fc5-44c6-b7ec-0b8f419d2207"
      },
      "outputs": [
        {
          "data": {
            "text/html": [
              "<div>\n",
              "<style scoped>\n",
              "    .dataframe tbody tr th:only-of-type {\n",
              "        vertical-align: middle;\n",
              "    }\n",
              "\n",
              "    .dataframe tbody tr th {\n",
              "        vertical-align: top;\n",
              "    }\n",
              "\n",
              "    .dataframe thead th {\n",
              "        text-align: right;\n",
              "    }\n",
              "</style>\n",
              "<table border=\"1\" class=\"dataframe\">\n",
              "  <thead>\n",
              "    <tr style=\"text-align: right;\">\n",
              "      <th></th>\n",
              "      <th>movie_id</th>\n",
              "      <th>title</th>\n",
              "      <th>overview</th>\n",
              "      <th>genres</th>\n",
              "      <th>keywords</th>\n",
              "      <th>cast</th>\n",
              "      <th>crew</th>\n",
              "    </tr>\n",
              "  </thead>\n",
              "  <tbody>\n",
              "    <tr>\n",
              "      <th>2009</th>\n",
              "      <td>580</td>\n",
              "      <td>Jaws: The Revenge</td>\n",
              "      <td>After another deadly shark attack, Ellen Brody...</td>\n",
              "      <td>[Adventure, Thriller]</td>\n",
              "      <td>[shark attack, bahamas, dying and death, aggre...</td>\n",
              "      <td>[Lorraine Gary, Lance Guest, Mario Van Peebles]</td>\n",
              "      <td>[Joseph Sargent]</td>\n",
              "    </tr>\n",
              "    <tr>\n",
              "      <th>3363</th>\n",
              "      <td>308639</td>\n",
              "      <td>Dope</td>\n",
              "      <td>Malcolm is carefully surviving life in a tough...</td>\n",
              "      <td>[Crime, Drama, Comedy]</td>\n",
              "      <td>[california, hip-hop, harvard university, geek...</td>\n",
              "      <td>[Shameik Moore, Kiersey Clemons, Tony Revolori]</td>\n",
              "      <td>[Rick Famuyiwa]</td>\n",
              "    </tr>\n",
              "    <tr>\n",
              "      <th>2926</th>\n",
              "      <td>256092</td>\n",
              "      <td>Drive Hard</td>\n",
              "      <td>A former race car driver is abducted by a myst...</td>\n",
              "      <td>[Action, Comedy, Crime]</td>\n",
              "      <td>[]</td>\n",
              "      <td>[Thomas Jane, John Cusack, Zoe Ventoura]</td>\n",
              "      <td>[Brian Trenchard-Smith]</td>\n",
              "    </tr>\n",
              "    <tr>\n",
              "      <th>2109</th>\n",
              "      <td>8326</td>\n",
              "      <td>Holes</td>\n",
              "      <td>Stanley's family is cursed with bad luck. Unfa...</td>\n",
              "      <td>[Adventure, Family, Drama, Comedy]</td>\n",
              "      <td>[curse, suitor, false accusations, reference t...</td>\n",
              "      <td>[Sigourney Weaver, Jon Voight, Tim Blake Nelson]</td>\n",
              "      <td>[Andrew Davis]</td>\n",
              "    </tr>\n",
              "    <tr>\n",
              "      <th>1723</th>\n",
              "      <td>112949</td>\n",
              "      <td>Safe Haven</td>\n",
              "      <td>A young woman with a mysterious past lands in ...</td>\n",
              "      <td>[Romance]</td>\n",
              "      <td>[based on novel, small town, widower, single f...</td>\n",
              "      <td>[Julianne Hough, Josh Duhamel, Cobie Smulders]</td>\n",
              "      <td>[Lasse Hallström]</td>\n",
              "    </tr>\n",
              "  </tbody>\n",
              "</table>\n",
              "</div>"
            ],
            "text/plain": [
              "      movie_id              title  \\\n",
              "2009       580  Jaws: The Revenge   \n",
              "3363    308639               Dope   \n",
              "2926    256092         Drive Hard   \n",
              "2109      8326              Holes   \n",
              "1723    112949         Safe Haven   \n",
              "\n",
              "                                               overview  \\\n",
              "2009  After another deadly shark attack, Ellen Brody...   \n",
              "3363  Malcolm is carefully surviving life in a tough...   \n",
              "2926  A former race car driver is abducted by a myst...   \n",
              "2109  Stanley's family is cursed with bad luck. Unfa...   \n",
              "1723  A young woman with a mysterious past lands in ...   \n",
              "\n",
              "                                  genres  \\\n",
              "2009               [Adventure, Thriller]   \n",
              "3363              [Crime, Drama, Comedy]   \n",
              "2926             [Action, Comedy, Crime]   \n",
              "2109  [Adventure, Family, Drama, Comedy]   \n",
              "1723                           [Romance]   \n",
              "\n",
              "                                               keywords  \\\n",
              "2009  [shark attack, bahamas, dying and death, aggre...   \n",
              "3363  [california, hip-hop, harvard university, geek...   \n",
              "2926                                                 []   \n",
              "2109  [curse, suitor, false accusations, reference t...   \n",
              "1723  [based on novel, small town, widower, single f...   \n",
              "\n",
              "                                                  cast  \\\n",
              "2009   [Lorraine Gary, Lance Guest, Mario Van Peebles]   \n",
              "3363   [Shameik Moore, Kiersey Clemons, Tony Revolori]   \n",
              "2926          [Thomas Jane, John Cusack, Zoe Ventoura]   \n",
              "2109  [Sigourney Weaver, Jon Voight, Tim Blake Nelson]   \n",
              "1723    [Julianne Hough, Josh Duhamel, Cobie Smulders]   \n",
              "\n",
              "                         crew  \n",
              "2009         [Joseph Sargent]  \n",
              "3363          [Rick Famuyiwa]  \n",
              "2926  [Brian Trenchard-Smith]  \n",
              "2109           [Andrew Davis]  \n",
              "1723        [Lasse Hallström]  "
            ]
          },
          "execution_count": 23,
          "metadata": {},
          "output_type": "execute_result"
        }
      ],
      "source": [
        "movies.sample(5)"
      ]
    },
    {
      "cell_type": "code",
      "execution_count": 24,
      "metadata": {
        "id": "Mde4t1YZd7Ly"
      },
      "outputs": [],
      "source": [
        "# Tom Hanks -> TomHanks\n",
        "def collapse(L):\n",
        "    L1 = []\n",
        "    for i in L:\n",
        "        L1.append(i.replace(\" \",\"\"))\n",
        "    return L1"
      ]
    },
    {
      "cell_type": "code",
      "execution_count": 25,
      "metadata": {
        "id": "kzyYO2O5d-vm"
      },
      "outputs": [],
      "source": [
        "movies['cast'] = movies['cast'].apply(collapse)\n",
        "movies['crew'] = movies['crew'].apply(collapse)\n",
        "movies['genres'] = movies['genres'].apply(collapse)\n",
        "movies['keywords'] = movies['keywords'].apply(collapse)"
      ]
    },
    {
      "cell_type": "code",
      "execution_count": 26,
      "metadata": {
        "colab": {
          "base_uri": "https://localhost:8080/",
          "height": 379
        },
        "id": "EBBcvPBjeFM7",
        "outputId": "d1c1f044-5f16-4eae-b00b-9ef9bb260812"
      },
      "outputs": [
        {
          "data": {
            "text/html": [
              "<div>\n",
              "<style scoped>\n",
              "    .dataframe tbody tr th:only-of-type {\n",
              "        vertical-align: middle;\n",
              "    }\n",
              "\n",
              "    .dataframe tbody tr th {\n",
              "        vertical-align: top;\n",
              "    }\n",
              "\n",
              "    .dataframe thead th {\n",
              "        text-align: right;\n",
              "    }\n",
              "</style>\n",
              "<table border=\"1\" class=\"dataframe\">\n",
              "  <thead>\n",
              "    <tr style=\"text-align: right;\">\n",
              "      <th></th>\n",
              "      <th>movie_id</th>\n",
              "      <th>title</th>\n",
              "      <th>overview</th>\n",
              "      <th>genres</th>\n",
              "      <th>keywords</th>\n",
              "      <th>cast</th>\n",
              "      <th>crew</th>\n",
              "    </tr>\n",
              "  </thead>\n",
              "  <tbody>\n",
              "    <tr>\n",
              "      <th>0</th>\n",
              "      <td>19995</td>\n",
              "      <td>Avatar</td>\n",
              "      <td>In the 22nd century, a paraplegic Marine is di...</td>\n",
              "      <td>[Action, Adventure, Fantasy, ScienceFiction]</td>\n",
              "      <td>[cultureclash, future, spacewar, spacecolony, ...</td>\n",
              "      <td>[SamWorthington, ZoeSaldana, SigourneyWeaver]</td>\n",
              "      <td>[JamesCameron]</td>\n",
              "    </tr>\n",
              "    <tr>\n",
              "      <th>1</th>\n",
              "      <td>285</td>\n",
              "      <td>Pirates of the Caribbean: At World's End</td>\n",
              "      <td>Captain Barbossa, long believed to be dead, ha...</td>\n",
              "      <td>[Adventure, Fantasy, Action]</td>\n",
              "      <td>[ocean, drugabuse, exoticisland, eastindiatrad...</td>\n",
              "      <td>[JohnnyDepp, OrlandoBloom, KeiraKnightley]</td>\n",
              "      <td>[GoreVerbinski]</td>\n",
              "    </tr>\n",
              "    <tr>\n",
              "      <th>2</th>\n",
              "      <td>206647</td>\n",
              "      <td>Spectre</td>\n",
              "      <td>A cryptic message from Bond’s past sends him o...</td>\n",
              "      <td>[Action, Adventure, Crime]</td>\n",
              "      <td>[spy, basedonnovel, secretagent, sequel, mi6, ...</td>\n",
              "      <td>[DanielCraig, ChristophWaltz, LéaSeydoux]</td>\n",
              "      <td>[SamMendes]</td>\n",
              "    </tr>\n",
              "    <tr>\n",
              "      <th>3</th>\n",
              "      <td>49026</td>\n",
              "      <td>The Dark Knight Rises</td>\n",
              "      <td>Following the death of District Attorney Harve...</td>\n",
              "      <td>[Action, Crime, Drama, Thriller]</td>\n",
              "      <td>[dccomics, crimefighter, terrorist, secretiden...</td>\n",
              "      <td>[ChristianBale, MichaelCaine, GaryOldman]</td>\n",
              "      <td>[ChristopherNolan]</td>\n",
              "    </tr>\n",
              "    <tr>\n",
              "      <th>4</th>\n",
              "      <td>49529</td>\n",
              "      <td>John Carter</td>\n",
              "      <td>John Carter is a war-weary, former military ca...</td>\n",
              "      <td>[Action, Adventure, ScienceFiction]</td>\n",
              "      <td>[basedonnovel, mars, medallion, spacetravel, p...</td>\n",
              "      <td>[TaylorKitsch, LynnCollins, SamanthaMorton]</td>\n",
              "      <td>[AndrewStanton]</td>\n",
              "    </tr>\n",
              "  </tbody>\n",
              "</table>\n",
              "</div>"
            ],
            "text/plain": [
              "   movie_id                                     title  \\\n",
              "0     19995                                    Avatar   \n",
              "1       285  Pirates of the Caribbean: At World's End   \n",
              "2    206647                                   Spectre   \n",
              "3     49026                     The Dark Knight Rises   \n",
              "4     49529                               John Carter   \n",
              "\n",
              "                                            overview  \\\n",
              "0  In the 22nd century, a paraplegic Marine is di...   \n",
              "1  Captain Barbossa, long believed to be dead, ha...   \n",
              "2  A cryptic message from Bond’s past sends him o...   \n",
              "3  Following the death of District Attorney Harve...   \n",
              "4  John Carter is a war-weary, former military ca...   \n",
              "\n",
              "                                         genres  \\\n",
              "0  [Action, Adventure, Fantasy, ScienceFiction]   \n",
              "1                  [Adventure, Fantasy, Action]   \n",
              "2                    [Action, Adventure, Crime]   \n",
              "3              [Action, Crime, Drama, Thriller]   \n",
              "4           [Action, Adventure, ScienceFiction]   \n",
              "\n",
              "                                            keywords  \\\n",
              "0  [cultureclash, future, spacewar, spacecolony, ...   \n",
              "1  [ocean, drugabuse, exoticisland, eastindiatrad...   \n",
              "2  [spy, basedonnovel, secretagent, sequel, mi6, ...   \n",
              "3  [dccomics, crimefighter, terrorist, secretiden...   \n",
              "4  [basedonnovel, mars, medallion, spacetravel, p...   \n",
              "\n",
              "                                            cast                crew  \n",
              "0  [SamWorthington, ZoeSaldana, SigourneyWeaver]      [JamesCameron]  \n",
              "1     [JohnnyDepp, OrlandoBloom, KeiraKnightley]     [GoreVerbinski]  \n",
              "2      [DanielCraig, ChristophWaltz, LéaSeydoux]         [SamMendes]  \n",
              "3      [ChristianBale, MichaelCaine, GaryOldman]  [ChristopherNolan]  \n",
              "4    [TaylorKitsch, LynnCollins, SamanthaMorton]     [AndrewStanton]  "
            ]
          },
          "execution_count": 26,
          "metadata": {},
          "output_type": "execute_result"
        }
      ],
      "source": [
        "movies.head()"
      ]
    },
    {
      "cell_type": "code",
      "execution_count": 27,
      "metadata": {
        "id": "_d7RkL50eI0m"
      },
      "outputs": [],
      "source": [
        "movies['overview'] = movies['overview'].apply(lambda x:x.split())"
      ]
    },
    {
      "cell_type": "code",
      "execution_count": 28,
      "metadata": {
        "id": "d8aH3LWXeN81"
      },
      "outputs": [],
      "source": [
        "movies['tags'] = movies['overview'] + movies['genres'] + movies['keywords'] + movies['cast'] + movies['crew']"
      ]
    },
    {
      "cell_type": "code",
      "execution_count": 29,
      "metadata": {
        "id": "bWntSe8QeQ8K"
      },
      "outputs": [],
      "source": [
        "new = movies.drop(columns=['overview','genres','keywords','cast','crew'])"
      ]
    },
    {
      "cell_type": "code",
      "execution_count": 30,
      "metadata": {
        "colab": {
          "base_uri": "https://localhost:8080/",
          "height": 206
        },
        "id": "sX4j_vH-eSvr",
        "outputId": "cbb905a6-12fe-4b6e-c231-10d57028f301"
      },
      "outputs": [
        {
          "data": {
            "text/html": [
              "<div>\n",
              "<style scoped>\n",
              "    .dataframe tbody tr th:only-of-type {\n",
              "        vertical-align: middle;\n",
              "    }\n",
              "\n",
              "    .dataframe tbody tr th {\n",
              "        vertical-align: top;\n",
              "    }\n",
              "\n",
              "    .dataframe thead th {\n",
              "        text-align: right;\n",
              "    }\n",
              "</style>\n",
              "<table border=\"1\" class=\"dataframe\">\n",
              "  <thead>\n",
              "    <tr style=\"text-align: right;\">\n",
              "      <th></th>\n",
              "      <th>movie_id</th>\n",
              "      <th>title</th>\n",
              "      <th>tags</th>\n",
              "    </tr>\n",
              "  </thead>\n",
              "  <tbody>\n",
              "    <tr>\n",
              "      <th>0</th>\n",
              "      <td>19995</td>\n",
              "      <td>Avatar</td>\n",
              "      <td>In the 22nd century, a paraplegic Marine is di...</td>\n",
              "    </tr>\n",
              "    <tr>\n",
              "      <th>1</th>\n",
              "      <td>285</td>\n",
              "      <td>Pirates of the Caribbean: At World's End</td>\n",
              "      <td>Captain Barbossa, long believed to be dead, ha...</td>\n",
              "    </tr>\n",
              "    <tr>\n",
              "      <th>2</th>\n",
              "      <td>206647</td>\n",
              "      <td>Spectre</td>\n",
              "      <td>A cryptic message from Bond’s past sends him o...</td>\n",
              "    </tr>\n",
              "    <tr>\n",
              "      <th>3</th>\n",
              "      <td>49026</td>\n",
              "      <td>The Dark Knight Rises</td>\n",
              "      <td>Following the death of District Attorney Harve...</td>\n",
              "    </tr>\n",
              "    <tr>\n",
              "      <th>4</th>\n",
              "      <td>49529</td>\n",
              "      <td>John Carter</td>\n",
              "      <td>John Carter is a war-weary, former military ca...</td>\n",
              "    </tr>\n",
              "  </tbody>\n",
              "</table>\n",
              "</div>"
            ],
            "text/plain": [
              "   movie_id                                     title  \\\n",
              "0     19995                                    Avatar   \n",
              "1       285  Pirates of the Caribbean: At World's End   \n",
              "2    206647                                   Spectre   \n",
              "3     49026                     The Dark Knight Rises   \n",
              "4     49529                               John Carter   \n",
              "\n",
              "                                                tags  \n",
              "0  In the 22nd century, a paraplegic Marine is di...  \n",
              "1  Captain Barbossa, long believed to be dead, ha...  \n",
              "2  A cryptic message from Bond’s past sends him o...  \n",
              "3  Following the death of District Attorney Harve...  \n",
              "4  John Carter is a war-weary, former military ca...  "
            ]
          },
          "execution_count": 30,
          "metadata": {},
          "output_type": "execute_result"
        }
      ],
      "source": [
        "new['tags'] = new['tags'].apply(lambda x: \" \".join(x))\n",
        "new.head()"
      ]
    },
    {
      "cell_type": "code",
      "execution_count": 31,
      "metadata": {
        "id": "BV6R883meVSP"
      },
      "outputs": [],
      "source": [
        "from sklearn.feature_extraction.text import CountVectorizer\n",
        "cv = CountVectorizer(max_features=5000,stop_words='english')"
      ]
    },
    {
      "cell_type": "code",
      "execution_count": 32,
      "metadata": {
        "id": "pkSljd_feXLe"
      },
      "outputs": [],
      "source": [
        "vector = cv.fit_transform(new['tags']).toarray()"
      ]
    },
    {
      "cell_type": "code",
      "execution_count": 33,
      "metadata": {
        "colab": {
          "base_uri": "https://localhost:8080/"
        },
        "id": "wXjiZ0I7eXmP",
        "outputId": "e9be910e-4ebc-4abe-c4cd-fd9289ed81d4"
      },
      "outputs": [
        {
          "data": {
            "text/plain": [
              "(4806, 5000)"
            ]
          },
          "execution_count": 33,
          "metadata": {},
          "output_type": "execute_result"
        }
      ],
      "source": [
        "vector.shape"
      ]
    },
    {
      "cell_type": "code",
      "execution_count": 34,
      "metadata": {
        "id": "7t90Qc-4ebK_"
      },
      "outputs": [],
      "source": [
        "from sklearn.metrics.pairwise import cosine_similarity"
      ]
    },
    {
      "cell_type": "code",
      "execution_count": 35,
      "metadata": {
        "id": "Z_9ukQdvebrj"
      },
      "outputs": [],
      "source": [
        "similarity = cosine_similarity(vector)"
      ]
    },
    {
      "cell_type": "code",
      "execution_count": 36,
      "metadata": {
        "colab": {
          "base_uri": "https://localhost:8080/"
        },
        "id": "ZhE-LKMTeedL",
        "outputId": "09a97d6e-393e-461b-f4d5-2338fd56f814"
      },
      "outputs": [
        {
          "data": {
            "text/plain": [
              "array([[1.        , 0.08964215, 0.06071767, ..., 0.02519763, 0.0277885 ,\n",
              "        0.        ],\n",
              "       [0.08964215, 1.        , 0.06350006, ..., 0.02635231, 0.        ,\n",
              "        0.        ],\n",
              "       [0.06071767, 0.06350006, 1.        , ..., 0.02677398, 0.        ,\n",
              "        0.        ],\n",
              "       ...,\n",
              "       [0.02519763, 0.02635231, 0.02677398, ..., 1.        , 0.07352146,\n",
              "        0.04774099],\n",
              "       [0.0277885 , 0.        , 0.        , ..., 0.07352146, 1.        ,\n",
              "        0.05264981],\n",
              "       [0.        , 0.        , 0.        , ..., 0.04774099, 0.05264981,\n",
              "        1.        ]])"
            ]
          },
          "execution_count": 36,
          "metadata": {},
          "output_type": "execute_result"
        }
      ],
      "source": [
        "similarity"
      ]
    },
    {
      "cell_type": "code",
      "execution_count": 37,
      "metadata": {
        "colab": {
          "base_uri": "https://localhost:8080/"
        },
        "id": "DVmjnPxOeg6b",
        "outputId": "783bbd3a-fb3d-49d4-bb36-4a9dd663d283"
      },
      "outputs": [
        {
          "data": {
            "text/plain": [
              "744"
            ]
          },
          "execution_count": 37,
          "metadata": {},
          "output_type": "execute_result"
        }
      ],
      "source": [
        "new[new['title'] == 'The Lego Movie'].index[0]"
      ]
    },
    {
      "cell_type": "code",
      "execution_count": 38,
      "metadata": {
        "id": "z-L-vtGtenrR"
      },
      "outputs": [],
      "source": [
        "def recommend(movie):\n",
        "    index = new[new['title'] == movie].index[0]\n",
        "    distances = sorted(list(enumerate(similarity[index])),reverse=True,key = lambda x: x[1])\n",
        "    for i in distances[1:6]:\n",
        "        print(new.iloc[i[0]].title)"
      ]
    },
    {
      "cell_type": "code",
      "execution_count": 39,
      "metadata": {
        "colab": {
          "base_uri": "https://localhost:8080/"
        },
        "id": "D65dxit_eqJd",
        "outputId": "e4b69dfd-66a8-41c3-814d-e87d90119dc3"
      },
      "outputs": [
        {
          "name": "stdout",
          "output_type": "stream",
          "text": [
            "Gandhi, My Father\n",
            "The Wind That Shakes the Barley\n",
            "A Passage to India\n",
            "Guiana 1838\n",
            "Ramanujan\n"
          ]
        }
      ],
      "source": [
        "recommend('Gandhi')"
      ]
    },
    {
      "cell_type": "code",
      "execution_count": 40,
      "metadata": {
        "id": "AWfvrYwLesVp"
      },
      "outputs": [],
      "source": [
        "import pickle"
      ]
    },
    {
      "cell_type": "code",
      "execution_count": 41,
      "metadata": {
        "id": "VxX1SMRYeutA"
      },
      "outputs": [],
      "source": [
        "pickle.dump(new,open('movie_list.pkl','wb'))\n",
        "pickle.dump(similarity,open('similarity.pkl','wb'))"
      ]
    }
  ],
  "metadata": {
    "colab": {
      "provenance": []
    },
    "kernelspec": {
      "display_name": "Python 3",
      "name": "python3"
    },
    "language_info": {
      "codemirror_mode": {
        "name": "ipython",
        "version": 3
      },
      "file_extension": ".py",
      "mimetype": "text/x-python",
      "name": "python",
      "nbconvert_exporter": "python",
      "pygments_lexer": "ipython3",
      "version": "3.11.4"
    }
  },
  "nbformat": 4,
  "nbformat_minor": 0
}
